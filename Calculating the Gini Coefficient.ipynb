{
 "cells": [
  {
   "cell_type": "markdown",
   "id": "2bab09fa",
   "metadata": {},
   "source": [
    "# Twitch Gini Coefficients\n",
    "\n",
    "Here's the notebook for calculating the Gini coefficient for Twitch incomes distributed amongst Twitch partners. The data for this was obtained via a data leak of Twitch's servers. The data are being scrubbed from the web, but feel free to contact me for the file"
   ]
  },
  {
   "cell_type": "code",
   "execution_count": 1,
   "id": "b85a5fbe",
   "metadata": {},
   "outputs": [],
   "source": [
    "import pandas as pd\n",
    "import numpy as np \n",
    "from scipy.interpolate import interp1d, UnivariateSpline\n",
    "from scipy.integrate import quad\n",
    "import scipy.optimize as opt"
   ]
  },
  {
   "cell_type": "code",
   "execution_count": 2,
   "id": "d881b311",
   "metadata": {},
   "outputs": [],
   "source": [
    "import seaborn as sns\n",
    "import matplotlib as mpl \n",
    "import matplotlib.pyplot as plt\n",
    "\n",
    "mpl.rcParams['axes.spines.right'] = False\n",
    "mpl.rcParams['axes.spines.top'] = False\n",
    "sns.set(font='DejaVu Sans',\n",
    "        rc={\n",
    " 'axes.axisbelow': False,\n",
    " 'axes.edgecolor': 'lightgrey',\n",
    " 'axes.facecolor': 'None',\n",
    " 'axes.grid': False,\n",
    " 'axes.labelcolor': 'dimgrey',\n",
    " 'axes.spines.right': False,\n",
    " 'axes.spines.top': False,\n",
    " 'figure.facecolor': 'white',\n",
    " 'lines.solid_capstyle': 'round',\n",
    " 'patch.edgecolor': 'w',\n",
    " 'patch.force_edgecolor': True,\n",
    " 'text.color': 'dimgrey',\n",
    " 'xtick.bottom': False,\n",
    " 'xtick.color': 'dimgrey',\n",
    " 'xtick.direction': 'out',\n",
    " 'xtick.top': False,\n",
    " 'ytick.color': 'dimgrey',\n",
    " 'ytick.direction': 'out',\n",
    " 'ytick.left': False,\n",
    " 'ytick.right': False})\n",
    "\n",
    "sns.set_context(\"notebook\", rc={\"font.size\":16,\n",
    "                                \"axes.titlesize\":20,\n",
    "                                \"axes.labelsize\":18})"
   ]
  },
  {
   "cell_type": "code",
   "execution_count": 3,
   "id": "36d3ab95",
   "metadata": {},
   "outputs": [
    {
     "data": {
      "text/html": [
       "<div>\n",
       "<style scoped>\n",
       "    .dataframe tbody tr th:only-of-type {\n",
       "        vertical-align: middle;\n",
       "    }\n",
       "\n",
       "    .dataframe tbody tr th {\n",
       "        vertical-align: top;\n",
       "    }\n",
       "\n",
       "    .dataframe thead th {\n",
       "        text-align: right;\n",
       "    }\n",
       "</style>\n",
       "<table border=\"1\" class=\"dataframe\">\n",
       "  <thead>\n",
       "    <tr style=\"text-align: right;\">\n",
       "      <th></th>\n",
       "      <th>Rank</th>\n",
       "      <th>Username</th>\n",
       "      <th>UserID</th>\n",
       "      <th>GrossEarning</th>\n",
       "    </tr>\n",
       "  </thead>\n",
       "  <tbody>\n",
       "    <tr>\n",
       "      <th>0</th>\n",
       "      <td>1</td>\n",
       "      <td>CriticalRole</td>\n",
       "      <td>229729353</td>\n",
       "      <td>9626712.16</td>\n",
       "    </tr>\n",
       "    <tr>\n",
       "      <th>1</th>\n",
       "      <td>2</td>\n",
       "      <td>xQcOW</td>\n",
       "      <td>71092938</td>\n",
       "      <td>8454427.17</td>\n",
       "    </tr>\n",
       "    <tr>\n",
       "      <th>2</th>\n",
       "      <td>3</td>\n",
       "      <td>summit1g</td>\n",
       "      <td>26490481</td>\n",
       "      <td>5847541.17</td>\n",
       "    </tr>\n",
       "    <tr>\n",
       "      <th>3</th>\n",
       "      <td>4</td>\n",
       "      <td>Tfue</td>\n",
       "      <td>60056333</td>\n",
       "      <td>5295582.44</td>\n",
       "    </tr>\n",
       "    <tr>\n",
       "      <th>4</th>\n",
       "      <td>5</td>\n",
       "      <td>NICKMERCS</td>\n",
       "      <td>15564828</td>\n",
       "      <td>5096642.12</td>\n",
       "    </tr>\n",
       "  </tbody>\n",
       "</table>\n",
       "</div>"
      ],
      "text/plain": [
       "   Rank      Username     UserID  GrossEarning\n",
       "0     1  CriticalRole  229729353    9626712.16\n",
       "1     2         xQcOW   71092938    8454427.17\n",
       "2     3      summit1g   26490481    5847541.17\n",
       "3     4          Tfue   60056333    5295582.44\n",
       "4     5     NICKMERCS   15564828    5096642.12"
      ]
     },
     "execution_count": 3,
     "metadata": {},
     "output_type": "execute_result"
    }
   ],
   "source": [
    "data = pd.read_csv(\"TwitchEarnings.txt\", header=0, delimiter=' ')\n",
    "data.head()"
   ]
  },
  {
   "cell_type": "markdown",
   "id": "64c5e603",
   "metadata": {},
   "source": [
    "The data leak provides the top 10,000 twitch streamers according to gross earnings (which includes money from subscriptions, bits, and advertisement revenue). According to the [Twitch FAQ](https://www.twitch.tv/p/en/partners/faq/), however, there are about 27,000 twitch streamers. This means we'll have to approximate the remaining revenue for the 17,000 not found in the leak. Let's dive into the data to see what functional forms we need"
   ]
  },
  {
   "cell_type": "code",
   "execution_count": 4,
   "id": "c9f9539f",
   "metadata": {},
   "outputs": [],
   "source": [
    "num_partners = 27000"
   ]
  },
  {
   "cell_type": "code",
   "execution_count": 5,
   "id": "04bb113f",
   "metadata": {},
   "outputs": [
    {
     "data": {
      "text/plain": [
       "Text(0.5, 1.0, 'Power Law')"
      ]
     },
     "execution_count": 5,
     "metadata": {},
     "output_type": "execute_result"
    },
    {
     "data": {
      "image/png": "[encoded data removed]",
      "text/plain": [
       "<Figure size 1512x360 with 4 Axes>"
      ]
     },
     "metadata": {},
     "output_type": "display_data"
    }
   ],
   "source": [
    "fig, axes = plt.subplots(1, 4, figsize=(21, 5))\n",
    "axes[0].plot(data['Rank'], data['GrossEarning'])\n",
    "axes[0].set_title(\"Linear\")\n",
    "\n",
    "axes[1].plot(data['Rank'], data['GrossEarning'])\n",
    "axes[1].set_xscale('log')\n",
    "axes[1].set_title(\"Logarithmic\")\n",
    "\n",
    "axes[2].plot(data['Rank'], data['GrossEarning'])\n",
    "axes[2].set_yscale('log')\n",
    "axes[2].set_title(\"Exponential\")\n",
    "\n",
    "axes[3].plot(data['Rank'], data['GrossEarning'])\n",
    "\n",
    "\n",
    "axes[3].set_xscale('log')\n",
    "axes[3].set_yscale('log')\n",
    "axes[3].set_title(\"Power Law\")"
   ]
  },
  {
   "cell_type": "markdown",
   "id": "d05ab544",
   "metadata": {},
   "source": [
    "The distribution of income thus most closely resembles a power law (although not perfectly). We'll thus approximate function with $f(x) = A * e^{-a  \\ln (x)^b}$ and solve for the three parameters, $A, a, b$"
   ]
  },
  {
   "cell_type": "code",
   "execution_count": 6,
   "id": "851dff75",
   "metadata": {},
   "outputs": [],
   "source": [
    "def parametric_fit(rank, a=0.25, b=1.45, logA=np.log(max(data['GrossEarning']))):\n",
    "    A = np.exp(logA)\n",
    "    return A * np.exp(- a * np.log(rank)**b)\n",
    "\n",
    "def Loss(param_vector):\n",
    "    wrapper = lambda x: parametric_fit(x.to_numpy(), *param_vector)\n",
    "    N = len(data['Rank'])\n",
    "    RMSLE = np.sqrt(1/N * np.sum((np.log(data['GrossEarning'] + 1) - np.log(wrapper(data['Rank']) + 1))**2))\n",
    "    return np.sum(RMSLE)"
   ]
  },
  {
   "cell_type": "code",
   "execution_count": 7,
   "id": "b8b3c630",
   "metadata": {},
   "outputs": [
    {
     "data": {
      "text/plain": [
       " final_simplex: (array([[ 0.14057675,  1.6461845 , 15.50246926],\n",
       "       [ 0.14056949,  1.64620489, 15.50243223],\n",
       "       [ 0.14057401,  1.64619331, 15.50245907],\n",
       "       [ 0.14058887,  1.64615404, 15.5025668 ]]), array([0.01376258, 0.01376258, 0.01376258, 0.01376258]))\n",
       "           fun: 0.013762579389462943\n",
       "       message: 'Optimization terminated successfully.'\n",
       "          nfev: 515\n",
       "           nit: 304\n",
       "        status: 0\n",
       "       success: True\n",
       "             x: array([ 0.14057675,  1.6461845 , 15.50246926])"
      ]
     },
     "execution_count": 7,
     "metadata": {},
     "output_type": "execute_result"
    }
   ],
   "source": [
    "init_params = np.array([0.25, 1.68, np.log(max(data['GrossEarning']))])\n",
    "optimal_params = opt.minimize(Loss, x0=init_params, method='Nelder-Mead')\n",
    "optimal_params"
   ]
  },
  {
   "cell_type": "code",
   "execution_count": 8,
   "id": "bb87f3c3",
   "metadata": {},
   "outputs": [
    {
     "ename": "NameError",
     "evalue": "name 'exp_power_law' is not defined",
     "output_type": "error",
     "traceback": [
      "\u001b[0;31m---------------------------------------------------------------------------\u001b[0m",
      "\u001b[0;31mNameError\u001b[0m                                 Traceback (most recent call last)",
      "\u001b[0;32m/tmp/ipykernel_3977/694815515.py\u001b[0m in \u001b[0;36m<module>\u001b[0;34m\u001b[0m\n\u001b[1;32m      2\u001b[0m \u001b[0;34m\u001b[0m\u001b[0m\n\u001b[1;32m      3\u001b[0m \u001b[0mplt\u001b[0m\u001b[0;34m.\u001b[0m\u001b[0mscatter\u001b[0m\u001b[0;34m(\u001b[0m\u001b[0mdata\u001b[0m\u001b[0;34m[\u001b[0m\u001b[0;34m'Rank'\u001b[0m\u001b[0;34m]\u001b[0m\u001b[0;34m,\u001b[0m \u001b[0mdata\u001b[0m\u001b[0;34m[\u001b[0m\u001b[0;34m'GrossEarning'\u001b[0m\u001b[0;34m]\u001b[0m\u001b[0;34m)\u001b[0m\u001b[0;34m\u001b[0m\u001b[0;34m\u001b[0m\u001b[0m\n\u001b[0;32m----> 4\u001b[0;31m \u001b[0mplt\u001b[0m\u001b[0;34m.\u001b[0m\u001b[0mplot\u001b[0m\u001b[0;34m(\u001b[0m\u001b[0mx\u001b[0m\u001b[0;34m,\u001b[0m \u001b[0mexp_power_law\u001b[0m\u001b[0;34m(\u001b[0m\u001b[0mx\u001b[0m\u001b[0;34m,\u001b[0m \u001b[0;34m*\u001b[0m\u001b[0moptimal_params\u001b[0m\u001b[0;34m.\u001b[0m\u001b[0mx\u001b[0m\u001b[0;34m)\u001b[0m\u001b[0;34m,\u001b[0m \u001b[0mcolor\u001b[0m\u001b[0;34m=\u001b[0m\u001b[0;34m'black'\u001b[0m\u001b[0;34m)\u001b[0m\u001b[0;34m\u001b[0m\u001b[0;34m\u001b[0m\u001b[0m\n\u001b[0m\u001b[1;32m      5\u001b[0m \u001b[0mplt\u001b[0m\u001b[0;34m.\u001b[0m\u001b[0mxscale\u001b[0m\u001b[0;34m(\u001b[0m\u001b[0;34m'log'\u001b[0m\u001b[0;34m)\u001b[0m\u001b[0;34m\u001b[0m\u001b[0;34m\u001b[0m\u001b[0m\n\u001b[1;32m      6\u001b[0m \u001b[0mplt\u001b[0m\u001b[0;34m.\u001b[0m\u001b[0myscale\u001b[0m\u001b[0;34m(\u001b[0m\u001b[0;34m'log'\u001b[0m\u001b[0;34m)\u001b[0m\u001b[0;34m\u001b[0m\u001b[0;34m\u001b[0m\u001b[0m\n",
      "\u001b[0;31mNameError\u001b[0m: name 'exp_power_law' is not defined"
     ]
    },
    {
     "data": {
      "image/png": "[encoded data removed]",
      "text/plain": [
       "<Figure size 432x288 with 1 Axes>"
      ]
     },
     "metadata": {},
     "output_type": "display_data"
    }
   ],
   "source": [
    "x = np.linspace(1, len(data['Rank']), len(data['Rank']))\n",
    "\n",
    "plt.scatter(data['Rank'], data['GrossEarning'])\n",
    "plt.plot(x, exp_power_law(x, *optimal_params.x), color='black')\n",
    "plt.xscale('log')\n",
    "plt.yscale('log')"
   ]
  },
  {
   "cell_type": "markdown",
   "id": "4c6e14f9",
   "metadata": {},
   "source": [
    "It looks like our guess at the functional form worked out! With the optimal parameters found, we can extrapolate the earned income out to the total number of partnered Twitch streamers. The total amount of money Twitch paid out is then the sum of this function over all of these people"
   ]
  },
  {
   "cell_type": "code",
   "execution_count": null,
   "id": "9a96c1c0",
   "metadata": {},
   "outputs": [],
   "source": [
    "ranks = np.linspace(1, num_partners + 1, num_partners)\n",
    "fractional_rank = (np.cumsum(ranks))/(np.sum(ranks))\n",
    "\n",
    "Total_Twitch_Payout = np.sum(exp_power_law(ranks, *optimal_params.x))\n",
    "Total_Twitch_Payout"
   ]
  },
  {
   "cell_type": "markdown",
   "id": "87e526ae",
   "metadata": {},
   "source": [
    "Twitch has thus paid out over a billion dollars over the 26 months this data leak covers! We now have enough information to calculate the Lorenz curve and obtain the Gini coefficient"
   ]
  },
  {
   "cell_type": "code",
   "execution_count": null,
   "id": "892fa21b",
   "metadata": {},
   "outputs": [],
   "source": [
    "fraction_of_income = np.cumsum(exp_power_law(ranks, *optimal_params.x))/ Total_Twitch_Payout"
   ]
  },
  {
   "cell_type": "code",
   "execution_count": null,
   "id": "ebeaee26",
   "metadata": {},
   "outputs": [],
   "source": [
    "Lorenz = interp1d(fraction_of_income, fractional_rank, fill_value='extrapolate')"
   ]
  },
  {
   "cell_type": "code",
   "execution_count": null,
   "id": "3cc7bbe4",
   "metadata": {},
   "outputs": [],
   "source": [
    "x = np.linspace(0, 1., 10000)\n",
    "plt.figure(figsize=(8, 8))\n",
    "plt.plot(100* x, 100 *  Lorenz(x), linewidth=3, color=\"#6441A4\")\n",
    "plt.plot([0, 100], [0, 100], color='black', linewidth=1)\n",
    "\n",
    "plt.fill_between(100* x, 100* x, color=\"#AAA1FF\")\n",
    "plt.fill_between(100* x, 100 *  Lorenz(x))\n",
    "\n",
    "plt.xlim(0, 100)\n",
    "plt.ylim(0, 100)\n",
    "\n",
    "plt.text(65, 30, \"A\", color='white', fontsize=40)\n",
    "plt.text(95., 3, \"B\", color='white', fontsize=15)\n",
    "\n",
    "plt.xlabel(\"% of Twitch Partner population\")\n",
    "plt.ylabel(\"% of Twitch income\")"
   ]
  },
  {
   "cell_type": "code",
   "execution_count": null,
   "id": "5d88f1cf",
   "metadata": {},
   "outputs": [],
   "source": [
    "AplusB = 0.5  # area of unit square under diagonal\n",
    "B = quad(Lorenz, 0., 1)[0]\n",
    "A = AplusB - B\n",
    "Gini = A/(A + B)\n",
    "Gini"
   ]
  },
  {
   "cell_type": "markdown",
   "id": "8be20b9a",
   "metadata": {},
   "source": [
    "The Gini coefficient for Twitch partners is 0.808!"
   ]
  },
  {
   "cell_type": "code",
   "execution_count": null,
   "id": "a8f9d355",
   "metadata": {},
   "outputs": [],
   "source": [
    "pct = 0.1\n",
    "(1 - Lorenz(1 - pct/100))"
   ]
  },
  {
   "cell_type": "markdown",
   "id": "ddf5234e",
   "metadata": {},
   "source": [
    "The top 0.1% make 1% of all Twitch income!"
   ]
  }
 ],
 "metadata": {
  "kernelspec": {
   "display_name": "ml",
   "language": "python",
   "name": "ml"
  },
  "language_info": {
   "codemirror_mode": {
    "name": "ipython",
    "version": 3
   },
   "file_extension": ".py",
   "mimetype": "text/x-python",
   "name": "python",
   "nbconvert_exporter": "python",
   "pygments_lexer": "ipython3",
   "version": "3.8.8"
  }
 },
 "nbformat": 4,
 "nbformat_minor": 5
}
